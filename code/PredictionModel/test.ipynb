{
 "cells": [
  {
   "cell_type": "code",
   "execution_count": 1,
   "metadata": {},
   "outputs": [
    {
     "name": "stderr",
     "output_type": "stream",
     "text": [
      "2023-10-06 21:12:08.887640: I tensorflow/core/util/port.cc:110] oneDNN custom operations are on. You may see slightly different numerical results due to floating-point round-off errors from different computation orders. To turn them off, set the environment variable `TF_ENABLE_ONEDNN_OPTS=0`.\n",
      "2023-10-06 21:12:08.910846: I tensorflow/core/platform/cpu_feature_guard.cc:182] This TensorFlow binary is optimized to use available CPU instructions in performance-critical operations.\n",
      "To enable the following instructions: AVX2 AVX_VNNI FMA, in other operations, rebuild TensorFlow with the appropriate compiler flags.\n",
      "2023-10-06 21:12:09.312903: W tensorflow/compiler/tf2tensorrt/utils/py_utils.cc:38] TF-TRT Warning: Could not find TensorRT\n",
      "2023-10-06 21:12:09.762918: I tensorflow/compiler/xla/stream_executor/cuda/cuda_gpu_executor.cc:981] could not open file to read NUMA node: /sys/bus/pci/devices/0000:01:00.0/numa_node\n",
      "Your kernel may have been built without NUMA support.\n",
      "2023-10-06 21:12:09.779608: W tensorflow/core/common_runtime/gpu/gpu_device.cc:1960] Cannot dlopen some GPU libraries. Please make sure the missing libraries mentioned above are installed properly if you would like to use GPU. Follow the guide at https://www.tensorflow.org/install/gpu for how to download and setup the required libraries for your platform.\n",
      "Skipping registering GPU devices...\n"
     ]
    },
    {
     "name": "stdout",
     "output_type": "stream",
     "text": [
      "Epoch 1/5\n",
      "391/391 [==============================] - 3s 8ms/step - loss: 1.5634 - accuracy: 0.4475 - val_loss: 1.3227 - val_accuracy: 0.5400\n",
      "Epoch 2/5\n",
      "391/391 [==============================] - 3s 7ms/step - loss: 1.2607 - accuracy: 0.5607 - val_loss: 1.2217 - val_accuracy: 0.5667\n",
      "Epoch 3/5\n",
      "391/391 [==============================] - 3s 7ms/step - loss: 1.1520 - accuracy: 0.5990 - val_loss: 1.1547 - val_accuracy: 0.5965\n",
      "Epoch 4/5\n",
      "391/391 [==============================] - 3s 7ms/step - loss: 1.0734 - accuracy: 0.6285 - val_loss: 1.1473 - val_accuracy: 0.5994\n",
      "Epoch 5/5\n",
      "391/391 [==============================] - 3s 7ms/step - loss: 1.0097 - accuracy: 0.6492 - val_loss: 1.0859 - val_accuracy: 0.6190\n",
      "313/313 [==============================] - 1s 2ms/step - loss: 1.0859 - accuracy: 0.6190\n",
      "Test accuracy: 0.6190\n"
     ]
    }
   ],
   "source": [
    "import tensorflow as tf\n",
    "from tensorflow.keras.datasets import cifar10\n",
    "from tensorflow.keras.models import Sequential\n",
    "from tensorflow.keras.layers import Dense, Flatten, Conv2D, MaxPooling2D\n",
    "from tensorflow.keras.utils import to_categorical\n",
    "\n",
    "# Explicitly set TensorFlow to use the CPU\n",
    "with tf.device('/gpu:0'):\n",
    "\n",
    "    # Load CIFAR-10 dataset\n",
    "    (train_images, train_labels), (test_images, test_labels) = cifar10.load_data()\n",
    "\n",
    "    # Normalize dataset and convert labels to one-hot encoded format\n",
    "    train_images = train_images.astype('float32') / 255.0\n",
    "    test_images = test_images.astype('float32') / 255.0\n",
    "    train_labels = to_categorical(train_labels)\n",
    "    test_labels = to_categorical(test_labels)\n",
    "\n",
    "    # Define a simpler CNN model\n",
    "    model = Sequential([\n",
    "        Conv2D(32, (3, 3), activation='relu', input_shape=(32, 32, 3)),\n",
    "        MaxPooling2D(2, 2),\n",
    "        Flatten(),\n",
    "        Dense(128, activation='relu'),\n",
    "        Dense(10, activation='softmax')\n",
    "    ])\n",
    "\n",
    "    model.compile(optimizer='adam',\n",
    "                  loss='categorical_crossentropy',\n",
    "                  metrics=['accuracy'])\n",
    "\n",
    "    # Train the model on the dataset with fewer epochs and larger batch size\n",
    "    model.fit(train_images, train_labels, epochs=5, batch_size=128, validation_data=(test_images, test_labels))\n",
    "\n",
    "    # Evaluate the trained model\n",
    "    test_loss, test_acc = model.evaluate(test_images, test_labels)\n",
    "    print(\"Test accuracy: {:.4f}\".format(test_acc))\n"
   ]
  }
 ],
 "metadata": {
  "kernelspec": {
   "display_name": "Python 3",
   "language": "python",
   "name": "python3"
  },
  "language_info": {
   "codemirror_mode": {
    "name": "ipython",
    "version": 3
   },
   "file_extension": ".py",
   "mimetype": "text/x-python",
   "name": "python",
   "nbconvert_exporter": "python",
   "pygments_lexer": "ipython3",
   "version": "3.11.5"
  }
 },
 "nbformat": 4,
 "nbformat_minor": 2
}
